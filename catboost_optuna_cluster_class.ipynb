{
 "cells": [
  {
   "cell_type": "markdown",
   "metadata": {
    "id": "881lD0VJ_m2y"
   },
   "source": [
    "# 전역변수"
   ]
  },
  {
   "cell_type": "code",
   "execution_count": 37,
   "metadata": {
    "id": "i2SORQEJMcOT"
   },
   "outputs": [],
   "source": [
    "DATA_PATH = \"./\"\n",
    "SUBMIT_PATH = \"./submit/\"\n",
    "MODEL_PATH = \"./models/\"\n",
    "SEED = 42"
   ]
  },
  {
   "cell_type": "markdown",
   "metadata": {
    "id": "TKOGpC7sTJLj"
   },
   "source": [
    "# 라이브러리"
   ]
  },
  {
   "cell_type": "code",
   "execution_count": 7,
   "metadata": {
    "colab": {
     "base_uri": "https://localhost:8080/"
    },
    "id": "mVGRBMjBTF_D",
    "outputId": "e599224e-deb3-406a-bb28-0d0babdbfcee"
   },
   "outputs": [
    {
     "name": "stdout",
     "output_type": "stream",
     "text": [
      "- os: Windows-10-10.0.19041-SP0\n",
      "- python: 3.8.7 (tags/v3.8.7:6503f05, Dec 21 2020, 17:59:51) [MSC v.1928 64 bit (AMD64)]\n",
      "- pandas: 1.2.0\n",
      "- numpy: 1.19.5\n",
      "- sklearn: 0.24.0\n"
     ]
    }
   ],
   "source": [
    "import os\n",
    "import sys\n",
    "import platform\n",
    "import random\n",
    "import math\n",
    "from typing import List ,Dict, Tuple\n",
    "\n",
    "import pandas as pd\n",
    "import numpy as np\n",
    "from tqdm import tqdm\n",
    " \n",
    "import sklearn \n",
    "from sklearn.model_selection import StratifiedKFold , KFold\n",
    "from sklearn.metrics import f1_score \n",
    "\n",
    "from catboost import Pool,CatBoostClassifier\n",
    "\n",
    "print(f\"- os: {platform.platform()}\")\n",
    "print(f\"- python: {sys.version}\")\n",
    "print(f\"- pandas: {pd.__version__}\")\n",
    "print(f\"- numpy: {np.__version__}\")\n",
    "print(f\"- sklearn: {sklearn.__version__}\")"
   ]
  },
  {
   "cell_type": "markdown",
   "metadata": {
    "id": "ZR004VEjJmEd"
   },
   "source": [
    "# 데이터 불러오기"
   ]
  },
  {
   "cell_type": "code",
   "execution_count": 8,
   "metadata": {
    "colab": {
     "base_uri": "https://localhost:8080/"
    },
    "id": "aRdNRpPYTFsD",
    "outputId": "24ba91d0-2b90-4be0-aab3-bd1743bd6c5d"
   },
   "outputs": [
    {
     "data": {
      "text/plain": [
       "((501951, 35), (46404, 34))"
      ]
     },
     "execution_count": 8,
     "metadata": {},
     "output_type": "execute_result"
    }
   ],
   "source": [
    "train_data = pd.read_csv(f'{DATA_PATH}train.csv')\n",
    "test_data = pd.read_csv(f'{DATA_PATH}test.csv')\n",
    "\n",
    "code_d = pd.read_csv(f'{DATA_PATH}속성_D_코드.csv')\n",
    "code_h = pd.read_csv(f'{DATA_PATH}속성_H_코드.csv').iloc[:,:-1]\n",
    "code_l = pd.read_csv(f'{DATA_PATH}속성_L_코드.csv')\n",
    "\n",
    "train_data.shape , test_data.shape"
   ]
  },
  {
   "cell_type": "code",
   "execution_count": 9,
   "metadata": {},
   "outputs": [],
   "source": [
    "train_data = train_data.assign(person_class=lambda x: x['person_rn'] // 100000)\n",
    "train_data = train_data.assign(contents_class=lambda x: x['contents_rn'] // 100000)\n",
    "test_data = test_data.assign(person_class=lambda x: x['person_rn'] // 100000)\n",
    "test_data = test_data.assign(contents_class=lambda x: x['contents_rn'] // 100000)"
   ]
  },
  {
   "cell_type": "code",
   "execution_count": 10,
   "metadata": {},
   "outputs": [],
   "source": [
    "train_cluster = pd.read_csv(f'{DATA_PATH}cluster.csv')\n",
    "test_cluster = pd.read_csv(f'{DATA_PATH}test_cluster.csv')"
   ]
  },
  {
   "cell_type": "code",
   "execution_count": 11,
   "metadata": {},
   "outputs": [],
   "source": [
    "train_cluster = train_cluster.applymap(lambda x : int(x))\n",
    "test_cluster = test_cluster.applymap(lambda x : int(x))"
   ]
  },
  {
   "cell_type": "code",
   "execution_count": 12,
   "metadata": {},
   "outputs": [],
   "source": [
    "train_data = pd.concat([train_data, train_cluster] , axis=1)\n",
    "test_data = pd.concat([test_data, test_cluster] , axis=1)"
   ]
  },
  {
   "cell_type": "markdown",
   "metadata": {
    "id": "DA0-1EWg7wcz"
   },
   "source": [
    "# 속성 코드 데이터 컬럼명 변경\n"
   ]
  },
  {
   "cell_type": "code",
   "execution_count": 13,
   "metadata": {
    "id": "fIxU3g8ZzRb_"
   },
   "outputs": [],
   "source": [
    "code_d.columns= [\"attribute_d\",\"attribute_d_d\",\"attribute_d_s\",\"attribute_d_m\",\"attribute_d_l\"]\n",
    "code_h.columns= [\"attribute_h\",\"attribute_h_p\"]\n",
    "code_l.columns= [\"attribute_l\",\"attribute_l_d\",\"attribute_l_s\",\"attribute_l_m\",\"attribute_l_l\"]"
   ]
  },
  {
   "cell_type": "markdown",
   "metadata": {
    "id": "YYinXio-Jztc"
   },
   "source": [
    "# 속성코드 데이터 merge 함수"
   ]
  },
  {
   "cell_type": "code",
   "execution_count": 14,
   "metadata": {
    "id": "x6UbJ3yX70iO"
   },
   "outputs": [],
   "source": [
    "def merge_codes(df:pd.DataFrame,df_code:pd.DataFrame,col:str)->pd.DataFrame:\n",
    "    df = df.copy()\n",
    "    df_code = df_code.copy()\n",
    "    df_code = df_code.add_prefix(f\"{col}_\")\n",
    "    df_code.columns.values[0] = col\n",
    "    return pd.merge(df,df_code,how=\"left\",on=col)"
   ]
  },
  {
   "cell_type": "markdown",
   "metadata": {
    "id": "N_C3hcvRJ6WF"
   },
   "source": [
    "# 데이터 전처리 함수"
   ]
  },
  {
   "cell_type": "code",
   "execution_count": 15,
   "metadata": {
    "id": "uQaxKG0oTpXb"
   },
   "outputs": [],
   "source": [
    "def preprocess_data(\n",
    "                    df:pd.DataFrame,is_train:bool = True, cols_merge:List[Tuple[str,pd.DataFrame]] = []  , cols_equi:List[Tuple[str,str]]= [] ,\n",
    "                    cols_drop:List[str] = [\"id\",\"person_prefer_f\",\"person_prefer_g\" ,\"contents_open_dt\"]\n",
    "                    )->Tuple[pd.DataFrame,np.ndarray]:\n",
    "    df = df.copy()\n",
    "\n",
    "    y_data = None\n",
    "    if is_train:\n",
    "        y_data = df[\"target\"].to_numpy()\n",
    "        df = df.drop(columns=\"target\")\n",
    "\n",
    "    for col, df_code in cols_merge:\n",
    "        df = merge_codes(df,df_code,col)\n",
    "\n",
    "    cols = df.select_dtypes(bool).columns.tolist()\n",
    "    df[cols] = df[cols].astype(int)\n",
    "\n",
    "    for col1, col2 in cols_equi:\n",
    "        df[f\"{col1}_{col2}\"] = (df[col1] == df[col2] ).astype(int)\n",
    "\n",
    "    df = df.drop(columns=cols_drop)\n",
    "    return (df , y_data)"
   ]
  },
  {
   "cell_type": "markdown",
   "metadata": {
    "id": "VKnaH0iFJ_gG"
   },
   "source": [
    "# 전처리 컬럼명 정의"
   ]
  },
  {
   "cell_type": "code",
   "execution_count": 16,
   "metadata": {
    "id": "r-EDv_4gTsGr"
   },
   "outputs": [],
   "source": [
    "# 소분류 중분류 대분류 속성코드 merge 컬럼명 및 데이터 프레임 리스트\n",
    "cols_merge = [\n",
    "              (\"person_prefer_d_1\" , code_d),\n",
    "              (\"person_prefer_d_2\" , code_d),\n",
    "              (\"person_prefer_d_3\" , code_d),\n",
    "              (\"contents_attribute_d\" , code_d),\n",
    "              (\"person_prefer_h_1\" , code_h),\n",
    "              (\"person_prefer_h_2\" , code_h),\n",
    "              (\"person_prefer_h_3\" , code_h),\n",
    "              (\"contents_attribute_h\" , code_h),\n",
    "              (\"contents_attribute_l\" , code_l),\n",
    "]\n",
    "\n",
    "# 회원 속성과 콘텐츠 속성의 동일한 코드 여부에 대한 컬럼명 리스트\n",
    "cols_equi = [\n",
    "\n",
    "    (\"contents_attribute_c\",\"person_prefer_c\"),\n",
    "    (\"contents_attribute_e\",\"person_prefer_e\"),\n",
    "\n",
    "    (\"person_prefer_d_2_attribute_d_s\" , \"contents_attribute_d_attribute_d_s\"),\n",
    "    (\"person_prefer_d_2_attribute_d_m\" , \"contents_attribute_d_attribute_d_m\"),\n",
    "    (\"person_prefer_d_2_attribute_d_l\" , \"contents_attribute_d_attribute_d_l\"),\n",
    "    (\"person_prefer_d_3_attribute_d_s\" , \"contents_attribute_d_attribute_d_s\"),\n",
    "    (\"person_prefer_d_3_attribute_d_m\" , \"contents_attribute_d_attribute_d_m\"),\n",
    "    (\"person_prefer_d_3_attribute_d_l\" , \"contents_attribute_d_attribute_d_l\"),\n",
    "\n",
    "    (\"person_prefer_h_1_attribute_h_p\" , \"contents_attribute_h_attribute_h_p\"),\n",
    "    (\"person_prefer_h_2_attribute_h_p\" , \"contents_attribute_h_attribute_h_p\"),\n",
    "    (\"person_prefer_h_3_attribute_h_p\" , \"contents_attribute_h_attribute_h_p\"),\n",
    "\n",
    "]\n",
    "\n",
    "# 학습에 필요없는 컬럼 리스트\n",
    "cols_drop = [\"id\",\"person_prefer_f\",\"person_prefer_g\" ,\"contents_open_dt\", \"contents_rn\", ]"
   ]
  },
  {
   "cell_type": "markdown",
   "metadata": {
    "id": "dIIYFriJKjdc"
   },
   "source": [
    "# 학습및 추론셋 전처리 !!"
   ]
  },
  {
   "cell_type": "code",
   "execution_count": 17,
   "metadata": {
    "colab": {
     "base_uri": "https://localhost:8080/"
    },
    "id": "xeHhs6pzTxvz",
    "outputId": "10b835b7-860c-481d-f978-409834eba320"
   },
   "outputs": [
    {
     "data": {
      "text/plain": [
       "((501951, 68), (501951,), (46404, 68))"
      ]
     },
     "execution_count": 17,
     "metadata": {},
     "output_type": "execute_result"
    }
   ],
   "source": [
    "x_train, y_train = preprocess_data(train_data, cols_merge = cols_merge , cols_equi= cols_equi , cols_drop = cols_drop)\n",
    "x_test, _ = preprocess_data(test_data,is_train = False, cols_merge = cols_merge , cols_equi= cols_equi  , cols_drop = cols_drop)\n",
    "x_train.shape , y_train.shape , x_test.shape"
   ]
  },
  {
   "cell_type": "markdown",
   "metadata": {
    "id": "okHoydC0KoLs"
   },
   "source": [
    "# 범주형 컬럼 리스트(catboost 파라미터에 넣을 용도)"
   ]
  },
  {
   "cell_type": "code",
   "execution_count": 18,
   "metadata": {
    "id": "YBHeYPx4gHZv"
   },
   "outputs": [],
   "source": [
    "cat_features = x_train.columns[x_train.nunique() > 2].tolist()"
   ]
  },
  {
   "cell_type": "markdown",
   "metadata": {
    "id": "6aGHnC9OK63t"
   },
   "source": [
    "# 학습 파라미터"
   ]
  },
  {
   "cell_type": "code",
   "execution_count": 19,
   "metadata": {
    "id": "mkdxBRJMgtzP"
   },
   "outputs": [],
   "source": [
    "is_holdout = False\n",
    "n_splits = 5\n",
    "iterations = 5000\n",
    "patience = 300\n",
    "\n",
    "cv = KFold(n_splits=n_splits, shuffle=True, random_state=SEED)"
   ]
  },
  {
   "cell_type": "markdown",
   "metadata": {
    "id": "CDG1B-tzLCuM"
   },
   "source": [
    "# 학습 시작!!"
   ]
  },
  {
   "cell_type": "code",
   "execution_count": null,
   "metadata": {},
   "outputs": [],
   "source": []
  },
  {
   "cell_type": "code",
   "execution_count": 20,
   "metadata": {
    "colab": {
     "base_uri": "https://localhost:8080/"
    },
    "id": "rkeqaUk4ggbe",
    "outputId": "31073096-2ce9-4a51-9a1c-d63541cc997e"
   },
   "outputs": [
    {
     "name": "stdout",
     "output_type": "stream",
     "text": [
      "==================================================\n",
      "Learning rate set to 0.06918\n",
      "0:\tlearn: 0.0000000\ttest: 0.0000000\tbest: 0.0000000 (0)\ttotal: 187ms\tremaining: 15m 35s\n",
      "100:\tlearn: 0.6664816\ttest: 0.6853277\tbest: 0.6854313 (98)\ttotal: 1m 16s\tremaining: 1h 1m 49s\n",
      "200:\tlearn: 0.6777230\ttest: 0.6895179\tbest: 0.6897563 (196)\ttotal: 2m 34s\tremaining: 1h 1m 30s\n",
      "300:\tlearn: 0.6867494\ttest: 0.6914426\tbest: 0.6918077 (284)\ttotal: 3m 53s\tremaining: 1h 42s\n",
      "400:\tlearn: 0.6932630\ttest: 0.6923243\tbest: 0.6926288 (380)\ttotal: 5m 14s\tremaining: 1h 2s\n",
      "500:\tlearn: 0.6992234\ttest: 0.6932069\tbest: 0.6932069 (499)\ttotal: 6m 33s\tremaining: 58m 49s\n",
      "600:\tlearn: 0.7042409\ttest: 0.6934888\tbest: 0.6935262 (589)\ttotal: 7m 45s\tremaining: 56m 49s\n",
      "700:\tlearn: 0.7089850\ttest: 0.6933198\tbest: 0.6936568 (621)\ttotal: 9m 7s\tremaining: 55m 58s\n",
      "800:\tlearn: 0.7137174\ttest: 0.6929962\tbest: 0.6937163 (717)\ttotal: 10m 28s\tremaining: 54m 56s\n",
      "900:\tlearn: 0.7175098\ttest: 0.6933079\tbest: 0.6937163 (717)\ttotal: 11m 49s\tremaining: 53m 47s\n",
      "1000:\tlearn: 0.7221331\ttest: 0.6932733\tbest: 0.6937163 (717)\ttotal: 13m 13s\tremaining: 52m 48s\n",
      "Stopped by overfitting detector  (300 iterations wait)\n",
      "\n",
      "bestTest = 0.6937162901\n",
      "bestIteration = 717\n",
      "\n",
      "Shrink model to first 718 iterations.\n",
      "==================================================\n",
      "Learning rate set to 0.069181\n",
      "0:\tlearn: 0.0000000\ttest: 0.0000000\tbest: 0.0000000 (0)\ttotal: 38.4ms\tremaining: 3m 12s\n",
      "100:\tlearn: 0.6664521\ttest: 0.6820664\tbest: 0.6820664 (100)\ttotal: 1m 16s\tremaining: 1h 2m\n",
      "200:\tlearn: 0.6773467\ttest: 0.6894122\tbest: 0.6894804 (199)\ttotal: 2m 38s\tremaining: 1h 3m 5s\n",
      "300:\tlearn: 0.6864864\ttest: 0.6931943\tbest: 0.6934716 (278)\ttotal: 4m 2s\tremaining: 1h 2m 58s\n",
      "400:\tlearn: 0.6934504\ttest: 0.6938982\tbest: 0.6942926 (352)\ttotal: 5m 25s\tremaining: 1h 2m 16s\n",
      "500:\tlearn: 0.6993068\ttest: 0.6964871\tbest: 0.6965985 (499)\ttotal: 6m 47s\tremaining: 1h 1m 2s\n",
      "600:\tlearn: 0.7043560\ttest: 0.6976149\tbest: 0.6977526 (573)\ttotal: 8m 18s\tremaining: 1h 45s\n",
      "700:\tlearn: 0.7094019\ttest: 0.6978714\tbest: 0.6981606 (643)\ttotal: 9m 46s\tremaining: 59m 57s\n",
      "800:\tlearn: 0.7136384\ttest: 0.6977280\tbest: 0.6983240 (746)\ttotal: 11m 21s\tremaining: 59m 31s\n",
      "900:\tlearn: 0.7184312\ttest: 0.6980070\tbest: 0.6983240 (746)\ttotal: 12m 52s\tremaining: 58m 36s\n",
      "1000:\tlearn: 0.7226272\ttest: 0.6979115\tbest: 0.6983240 (746)\ttotal: 14m 28s\tremaining: 57m 48s\n",
      "1100:\tlearn: 0.7267058\ttest: 0.6981707\tbest: 0.6985883 (1076)\ttotal: 16m\tremaining: 56m 40s\n",
      "1200:\tlearn: 0.7306760\ttest: 0.6979715\tbest: 0.6985883 (1076)\ttotal: 17m 36s\tremaining: 55m 43s\n",
      "1300:\tlearn: 0.7342520\ttest: 0.6982376\tbest: 0.6986714 (1285)\ttotal: 19m 10s\tremaining: 54m 31s\n",
      "1400:\tlearn: 0.7378693\ttest: 0.6980854\tbest: 0.6986714 (1285)\ttotal: 20m 48s\tremaining: 53m 27s\n",
      "1500:\tlearn: 0.7419394\ttest: 0.6976434\tbest: 0.6986714 (1285)\ttotal: 22m 25s\tremaining: 52m 17s\n",
      "Stopped by overfitting detector  (300 iterations wait)\n",
      "\n",
      "bestTest = 0.6986713674\n",
      "bestIteration = 1285\n",
      "\n",
      "Shrink model to first 1286 iterations.\n",
      "==================================================\n",
      "Learning rate set to 0.069181\n",
      "0:\tlearn: 0.6667010\ttest: 0.6653727\tbest: 0.6653727 (0)\ttotal: 54.1ms\tremaining: 4m 30s\n",
      "100:\tlearn: 0.6673039\ttest: 0.6792488\tbest: 0.6794043 (96)\ttotal: 1m 21s\tremaining: 1h 5m 59s\n",
      "200:\tlearn: 0.6771248\ttest: 0.6863751\tbest: 0.6863751 (200)\ttotal: 2m 50s\tremaining: 1h 7m 39s\n",
      "300:\tlearn: 0.6866020\ttest: 0.6893187\tbest: 0.6895287 (284)\ttotal: 4m 26s\tremaining: 1h 9m 22s\n",
      "400:\tlearn: 0.6936524\ttest: 0.6906465\tbest: 0.6907685 (389)\ttotal: 6m 5s\tremaining: 1h 9m 55s\n",
      "500:\tlearn: 0.6989099\ttest: 0.6919224\tbest: 0.6920475 (499)\ttotal: 7m 41s\tremaining: 1h 9m 2s\n",
      "600:\tlearn: 0.7044975\ttest: 0.6922968\tbest: 0.6926176 (573)\ttotal: 9m 24s\tremaining: 1h 8m 48s\n",
      "700:\tlearn: 0.7091304\ttest: 0.6919970\tbest: 0.6927129 (643)\ttotal: 11m 5s\tremaining: 1h 8m 1s\n",
      "800:\tlearn: 0.7137989\ttest: 0.6918872\tbest: 0.6927129 (643)\ttotal: 12m 53s\tremaining: 1h 7m 35s\n",
      "900:\tlearn: 0.7183228\ttest: 0.6917107\tbest: 0.6927129 (643)\ttotal: 14m 43s\tremaining: 1h 6m 59s\n",
      "Stopped by overfitting detector  (300 iterations wait)\n",
      "\n",
      "bestTest = 0.6927128728\n",
      "bestIteration = 643\n",
      "\n",
      "Shrink model to first 644 iterations.\n",
      "==================================================\n",
      "Learning rate set to 0.069181\n",
      "0:\tlearn: 0.0000000\ttest: 0.0000000\tbest: 0.0000000 (0)\ttotal: 68.3ms\tremaining: 5m 41s\n",
      "100:\tlearn: 0.6683847\ttest: 0.6789780\tbest: 0.6791610 (90)\ttotal: 1m 30s\tremaining: 1h 13m 8s\n",
      "200:\tlearn: 0.6782472\ttest: 0.6855784\tbest: 0.6855784 (200)\ttotal: 3m 6s\tremaining: 1h 14m 16s\n",
      "300:\tlearn: 0.6867121\ttest: 0.6884610\tbest: 0.6889118 (271)\ttotal: 4m 55s\tremaining: 1h 16m 47s\n",
      "400:\tlearn: 0.6934424\ttest: 0.6893130\tbest: 0.6894342 (399)\ttotal: 6m 51s\tremaining: 1h 18m 40s\n",
      "500:\tlearn: 0.6991830\ttest: 0.6901257\tbest: 0.6903134 (476)\ttotal: 8m 47s\tremaining: 1h 18m 55s\n",
      "600:\tlearn: 0.7046970\ttest: 0.6916758\tbest: 0.6917876 (585)\ttotal: 10m 50s\tremaining: 1h 19m 21s\n",
      "700:\tlearn: 0.7096919\ttest: 0.6926967\tbest: 0.6929727 (688)\ttotal: 12m 53s\tremaining: 1h 19m 4s\n",
      "800:\tlearn: 0.7142946\ttest: 0.6923243\tbest: 0.6929727 (688)\ttotal: 15m\tremaining: 1h 18m 43s\n",
      "900:\tlearn: 0.7183457\ttest: 0.6926576\tbest: 0.6929727 (688)\ttotal: 17m 4s\tremaining: 1h 17m 42s\n",
      "1000:\tlearn: 0.7225729\ttest: 0.6930184\tbest: 0.6935040 (931)\ttotal: 19m 12s\tremaining: 1h 16m 44s\n",
      "1100:\tlearn: 0.7263365\ttest: 0.6933828\tbest: 0.6935040 (931)\ttotal: 21m 27s\tremaining: 1h 16m\n",
      "1200:\tlearn: 0.7301226\ttest: 0.6929266\tbest: 0.6935040 (931)\ttotal: 23m 44s\tremaining: 1h 15m 5s\n",
      "Stopped by overfitting detector  (300 iterations wait)\n",
      "\n",
      "bestTest = 0.6935040482\n",
      "bestIteration = 931\n",
      "\n",
      "Shrink model to first 932 iterations.\n",
      "==================================================\n",
      "Learning rate set to 0.069181\n",
      "0:\tlearn: 0.6667895\ttest: 0.6650177\tbest: 0.6650177 (0)\ttotal: 87.6ms\tremaining: 7m 17s\n",
      "100:\tlearn: 0.6685102\ttest: 0.6777845\tbest: 0.6778173 (98)\ttotal: 1m 50s\tremaining: 1h 29m 32s\n",
      "200:\tlearn: 0.6796107\ttest: 0.6850031\tbest: 0.6850031 (200)\ttotal: 3m 49s\tremaining: 1h 31m 10s\n",
      "300:\tlearn: 0.6888659\ttest: 0.6902095\tbest: 0.6906516 (294)\ttotal: 6m 6s\tremaining: 1h 35m 14s\n",
      "400:\tlearn: 0.6953792\ttest: 0.6920041\tbest: 0.6922487 (397)\ttotal: 8m 27s\tremaining: 1h 36m 56s\n",
      "500:\tlearn: 0.7011799\ttest: 0.6925557\tbest: 0.6928963 (473)\ttotal: 10m 36s\tremaining: 1h 35m 18s\n",
      "600:\tlearn: 0.7063478\ttest: 0.6928839\tbest: 0.6930912 (591)\ttotal: 12m 57s\tremaining: 1h 34m 47s\n",
      "700:\tlearn: 0.7116127\ttest: 0.6932473\tbest: 0.6932473 (700)\ttotal: 15m 23s\tremaining: 1h 34m 24s\n",
      "800:\tlearn: 0.7159659\ttest: 0.6936538\tbest: 0.6936745 (796)\ttotal: 17m 45s\tremaining: 1h 33m 3s\n",
      "900:\tlearn: 0.7194397\ttest: 0.6934575\tbest: 0.6938358 (803)\ttotal: 20m 17s\tremaining: 1h 32m 19s\n",
      "1000:\tlearn: 0.7236843\ttest: 0.6931084\tbest: 0.6938358 (803)\ttotal: 22m 49s\tremaining: 1h 31m 11s\n",
      "1100:\tlearn: 0.7273432\ttest: 0.6938538\tbest: 0.6941295 (1094)\ttotal: 25m 19s\tremaining: 1h 29m 41s\n",
      "1200:\tlearn: 0.7313084\ttest: 0.6946179\tbest: 0.6948445 (1156)\ttotal: 27m 54s\tremaining: 1h 28m 16s\n",
      "1300:\tlearn: 0.7354311\ttest: 0.6949758\tbest: 0.6953983 (1275)\ttotal: 30m 31s\tremaining: 1h 26m 47s\n",
      "1400:\tlearn: 0.7389037\ttest: 0.6944405\tbest: 0.6953983 (1275)\ttotal: 33m 9s\tremaining: 1h 25m 11s\n",
      "1500:\tlearn: 0.7426986\ttest: 0.6947657\tbest: 0.6953983 (1275)\ttotal: 35m 52s\tremaining: 1h 23m 37s\n",
      "Stopped by overfitting detector  (300 iterations wait)\n",
      "\n",
      "bestTest = 0.6953982517\n",
      "bestIteration = 1275\n",
      "\n",
      "Shrink model to first 1276 iterations.\n"
     ]
    }
   ],
   "source": [
    "scores = []\n",
    "models = []\n",
    "\n",
    "\n",
    "models = []\n",
    "for tri, vai in cv.split(x_train):\n",
    "    print(\"=\"*50)\n",
    "    preds = []\n",
    "\n",
    "    model = CatBoostClassifier(iterations=iterations,random_state=SEED,eval_metric=\"F1\",cat_features=cat_features,one_hot_max_size=6,\n",
    "                              boosting_type = 'Plain', bootstrap_type='Bernoulli', depth = 9, colsample_bylevel = 0.051442184840004124, \n",
    "                              subsample=0.9934302225658067)\n",
    "    model.fit(x_train.iloc[tri], y_train[tri], \n",
    "            eval_set=[(x_train.iloc[vai], y_train[vai])], \n",
    "            early_stopping_rounds=patience ,\n",
    "            verbose = 100\n",
    "        )\n",
    "    \n",
    "    models.append(model)\n",
    "    scores.append(model.get_best_score()[\"validation\"][\"F1\"])\n",
    "    if is_holdout:\n",
    "        break    "
   ]
  },
  {
   "cell_type": "markdown",
   "metadata": {
    "id": "1_a2_yqqLF9M"
   },
   "source": [
    "# CV 결과 확인"
   ]
  },
  {
   "cell_type": "code",
   "execution_count": 21,
   "metadata": {
    "colab": {
     "base_uri": "https://localhost:8080/"
    },
    "id": "LpumWH7BpaAT",
    "outputId": "8e5c98e4-9add-4ce0-ffe5-8e6464d41b91"
   },
   "outputs": [
    {
     "name": "stdout",
     "output_type": "stream",
     "text": [
      "[0.693716290121827, 0.6986713673570806, 0.692712872787904, 0.6935040482018452, 0.6953982516924406]\n",
      "0.6948005660322194\n"
     ]
    }
   ],
   "source": [
    "print(scores)\n",
    "print(np.mean(scores))"
   ]
  },
  {
   "cell_type": "markdown",
   "metadata": {
    "id": "7CmILp45LaIN"
   },
   "source": [
    "# threshold값 변경에 따른 검증점수 확인 및 추론"
   ]
  },
  {
   "cell_type": "code",
   "execution_count": 36,
   "metadata": {},
   "outputs": [
    {
     "name": "stdout",
     "output_type": "stream",
     "text": [
      "[0.7199803539458466, 0.71892242265189, 0.717522143542491, 0.7180340073019871, 0.7165692255213829]\n",
      "0.7182056305927194\n"
     ]
    }
   ],
   "source": [
    "threshold=0.36\n",
    "pred_list = []\n",
    "scores = []\n",
    "for i,(tri, vai) in enumerate( cv.split(x_train) ):\n",
    "    pred = models[i].predict_proba(x_train.iloc[vai])[:, 1]\n",
    "    pred = np.where(pred >= threshold , 1, 0)\n",
    "    score = f1_score(y_train[vai],pred)\n",
    "    scores.append(score)\n",
    "    pred = models[i].predict_proba(x_test)[:, 1]\n",
    "    pred_list.append(pred)\n",
    "print(scores)\n",
    "print(np.mean(scores))"
   ]
  },
  {
   "cell_type": "markdown",
   "metadata": {
    "id": "6Sx_udFxLeMc"
   },
   "source": [
    "# 산술평균 앙상블!!"
   ]
  },
  {
   "cell_type": "code",
   "execution_count": 33,
   "metadata": {
    "id": "IMu3OjJjphPB"
   },
   "outputs": [],
   "source": [
    "pred = np.mean( pred_list , axis = 0 )\n",
    "pred = np.where(pred >= threshold , 1, 0)"
   ]
  },
  {
   "cell_type": "markdown",
   "metadata": {
    "id": "R63TFc2QLs8l"
   },
   "source": [
    "# 제출파일!!"
   ]
  },
  {
   "cell_type": "code",
   "execution_count": 34,
   "metadata": {
    "colab": {
     "base_uri": "https://localhost:8080/",
     "height": 424
    },
    "id": "DoKb5XRIphX0",
    "outputId": "c9a6bfa7-18ba-430d-ea42-d242defced03"
   },
   "outputs": [
    {
     "data": {
      "text/html": [
       "<div>\n",
       "<style scoped>\n",
       "    .dataframe tbody tr th:only-of-type {\n",
       "        vertical-align: middle;\n",
       "    }\n",
       "\n",
       "    .dataframe tbody tr th {\n",
       "        vertical-align: top;\n",
       "    }\n",
       "\n",
       "    .dataframe thead th {\n",
       "        text-align: right;\n",
       "    }\n",
       "</style>\n",
       "<table border=\"1\" class=\"dataframe\">\n",
       "  <thead>\n",
       "    <tr style=\"text-align: right;\">\n",
       "      <th></th>\n",
       "      <th>id</th>\n",
       "      <th>target</th>\n",
       "    </tr>\n",
       "  </thead>\n",
       "  <tbody>\n",
       "    <tr>\n",
       "      <th>0</th>\n",
       "      <td>0</td>\n",
       "      <td>1</td>\n",
       "    </tr>\n",
       "    <tr>\n",
       "      <th>1</th>\n",
       "      <td>1</td>\n",
       "      <td>0</td>\n",
       "    </tr>\n",
       "    <tr>\n",
       "      <th>2</th>\n",
       "      <td>2</td>\n",
       "      <td>1</td>\n",
       "    </tr>\n",
       "    <tr>\n",
       "      <th>3</th>\n",
       "      <td>3</td>\n",
       "      <td>0</td>\n",
       "    </tr>\n",
       "    <tr>\n",
       "      <th>4</th>\n",
       "      <td>4</td>\n",
       "      <td>0</td>\n",
       "    </tr>\n",
       "    <tr>\n",
       "      <th>...</th>\n",
       "      <td>...</td>\n",
       "      <td>...</td>\n",
       "    </tr>\n",
       "    <tr>\n",
       "      <th>46399</th>\n",
       "      <td>46399</td>\n",
       "      <td>1</td>\n",
       "    </tr>\n",
       "    <tr>\n",
       "      <th>46400</th>\n",
       "      <td>46400</td>\n",
       "      <td>1</td>\n",
       "    </tr>\n",
       "    <tr>\n",
       "      <th>46401</th>\n",
       "      <td>46401</td>\n",
       "      <td>1</td>\n",
       "    </tr>\n",
       "    <tr>\n",
       "      <th>46402</th>\n",
       "      <td>46402</td>\n",
       "      <td>1</td>\n",
       "    </tr>\n",
       "    <tr>\n",
       "      <th>46403</th>\n",
       "      <td>46403</td>\n",
       "      <td>1</td>\n",
       "    </tr>\n",
       "  </tbody>\n",
       "</table>\n",
       "<p>46404 rows × 2 columns</p>\n",
       "</div>"
      ],
      "text/plain": [
       "          id  target\n",
       "0          0       1\n",
       "1          1       0\n",
       "2          2       1\n",
       "3          3       0\n",
       "4          4       0\n",
       "...      ...     ...\n",
       "46399  46399       1\n",
       "46400  46400       1\n",
       "46401  46401       1\n",
       "46402  46402       1\n",
       "46403  46403       1\n",
       "\n",
       "[46404 rows x 2 columns]"
      ]
     },
     "execution_count": 34,
     "metadata": {},
     "output_type": "execute_result"
    }
   ],
   "source": [
    "sample_submission = pd.read_csv(f'{DATA_PATH}sample_submission.csv')\n",
    "sample_submission['target'] = pred\n",
    "sample_submission"
   ]
  },
  {
   "cell_type": "markdown",
   "metadata": {
    "id": "u0a6ZuAtLzWk"
   },
   "source": [
    "# 저장"
   ]
  },
  {
   "cell_type": "code",
   "execution_count": 35,
   "metadata": {
    "id": "h6MNQcwyphf8"
   },
   "outputs": [],
   "source": [
    "sample_submission.to_csv(f\"{SUBMIT_PATH}prediction.csv\", index=False)"
   ]
  },
  {
   "cell_type": "code",
   "execution_count": 38,
   "metadata": {
    "id": "KcMkUjSbv_ds"
   },
   "outputs": [],
   "source": [
    "for i in range (5):\n",
    "    models[i].save_model(f\"{MODEL_PATH}{i}th_cv_0.69480.cbm\")"
   ]
  }
 ],
 "metadata": {
  "accelerator": "GPU",
  "colab": {
   "collapsed_sections": [],
   "name": "train.ipynb",
   "provenance": []
  },
  "kernelspec": {
   "display_name": "Python 3",
   "language": "python",
   "name": "python3"
  },
  "language_info": {
   "codemirror_mode": {
    "name": "ipython",
    "version": 3
   },
   "file_extension": ".py",
   "mimetype": "text/x-python",
   "name": "python",
   "nbconvert_exporter": "python",
   "pygments_lexer": "ipython3",
   "version": "3.7.9"
  }
 },
 "nbformat": 4,
 "nbformat_minor": 4
}
